{
 "cells": [
  {
   "cell_type": "code",
   "execution_count": 1,
   "metadata": {},
   "outputs": [],
   "source": [
    "import os\n",
    "import h5py\n",
    "import librosa\n",
    "import itertools\n",
    "from copy import copy\n",
    "import numpy as np\n",
    "import matplotlib.pyplot as plt\n",
    "from collections import OrderedDict\n",
    "from sklearn.model_selection import train_test_split\n",
    "from sklearn.metrics import confusion_matrix"
   ]
  },
  {
   "cell_type": "code",
   "execution_count": 2,
   "metadata": {},
   "outputs": [],
   "source": [
    "import tensorflow as tf\n",
    "from tensorflow.keras.utils import to_categorical\n",
    "from tensorflow.keras.models import Model\n",
    "from tensorflow.keras.layers import Input\n",
    "from tensorflow.keras.models import Sequential\n",
    "from tensorflow.keras.layers import Add\n",
    "from tensorflow.keras.layers import Dense\n",
    "from tensorflow.keras.layers import Activation\n",
    "from tensorflow.keras.layers import PReLU\n",
    "from tensorflow.keras.layers import Conv2D\n",
    "from tensorflow.keras.layers import MaxPooling2D\n",
    "from tensorflow.keras.layers import AveragePooling2D\n",
    "from tensorflow.keras.layers import GlobalAveragePooling2D\n",
    "from tensorflow.keras.layers import GlobalMaxPooling2D\n",
    "from tensorflow.keras.layers import Dropout\n",
    "from tensorflow.keras.layers import Flatten\n",
    "from tensorflow.keras.layers import BatchNormalization\n",
    "from tensorflow.keras.callbacks import ReduceLROnPlateau"
   ]
  },
  {
   "cell_type": "code",
   "execution_count": 3,
   "metadata": {},
   "outputs": [],
   "source": [
    "# For reproducibility purposes\n",
    "np.random.seed(42)"
   ]
  },
  {
   "cell_type": "markdown",
   "metadata": {},
   "source": [
    "# Read the data\n",
    "\n",
    "> Helper functions to assist the process to read songs, split then and return an array of spectrograms/melspectrograms"
   ]
  },
  {
   "cell_type": "code",
   "execution_count": 4,
   "metadata": {},
   "outputs": [],
   "source": [
    "\"\"\"\n",
    "@description: Method to split a song into multiple songs using overlapping windows\n",
    "\"\"\"\n",
    "def splitsongs(X, y, window = 0.05, overlap = 0.5):\n",
    "    # Empty lists to hold our results\n",
    "    temp_X = []\n",
    "    temp_y = []\n",
    "\n",
    "    # Get the input song array size\n",
    "    xshape = X.shape[0]\n",
    "    chunk = int(xshape*window)\n",
    "    offset = int(chunk*(1.-overlap))\n",
    "    \n",
    "    # Split the song and create new ones on windows\n",
    "    spsong = [X[i:i+chunk] for i in range(0, xshape - chunk + offset, offset)]\n",
    "    for s in spsong:\n",
    "        if s.shape[0] != chunk:\n",
    "            continue\n",
    "\n",
    "        temp_X.append(s)\n",
    "        temp_y.append(y)\n",
    "\n",
    "    return np.array(temp_X), np.array(temp_y)"
   ]
  },
  {
   "cell_type": "code",
   "execution_count": 5,
   "metadata": {},
   "outputs": [],
   "source": [
    "\"\"\"\n",
    "@description: Method to convert a list of songs to a np array of melspectrograms\n",
    "\"\"\"\n",
    "def to_melspectrogram(songs, n_fft=1024, hop_length=256):\n",
    "    # Transformation function\n",
    "    melspec = lambda x: librosa.feature.melspectrogram(x, n_fft=n_fft,\n",
    "        hop_length=hop_length, n_mels=128)[:,:,np.newaxis]\n",
    "\n",
    "    # map transformation of input songs to melspectrogram using log-scale\n",
    "    tsongs = map(melspec, songs)\n",
    "    # np.array([librosa.power_to_db(s, ref=np.max) for s in list(tsongs)])\n",
    "    return np.array(list(tsongs))"
   ]
  },
  {
   "cell_type": "code",
   "execution_count": 6,
   "metadata": {},
   "outputs": [],
   "source": [
    "def split_convert(X, y):\n",
    "    arr_specs, arr_genres = [], []\n",
    "    \n",
    "    # Convert to spectrograms and split into small windows\n",
    "    for fn, genre in zip(X, y):\n",
    "        signal, sr = librosa.load(fn)\n",
    "        signal = signal[:song_samples]\n",
    "\n",
    "        # Convert to dataset of spectograms/melspectograms\n",
    "        signals, y = splitsongs(signal, genre)\n",
    "\n",
    "        # Convert to \"spec\" representation\n",
    "        specs = to_melspectrogram(signals)\n",
    "\n",
    "        # Save files\n",
    "        arr_genres.extend(y)\n",
    "        arr_specs.extend(specs)\n",
    "    \n",
    "    return np.array(arr_specs), to_categorical(arr_genres)"
   ]
  },
  {
   "cell_type": "code",
   "execution_count": 7,
   "metadata": {},
   "outputs": [],
   "source": [
    "def read_data(src_dir, genres, song_samples):    \n",
    "    # Empty array of dicts with the processed features from all files\n",
    "    arr_fn = []\n",
    "    arr_genres = []\n",
    "\n",
    "    # Get file list from the folders\n",
    "    for x,_ in genres.items():\n",
    "        folder = src_dir + x\n",
    "        for root, subdirs, files in os.walk(folder):\n",
    "            for file in files:\n",
    "                file_name = folder + \"/\" + file\n",
    "\n",
    "                # Save the file name and the genre\n",
    "                arr_fn.append(file_name)\n",
    "                arr_genres.append(genres[x])\n",
    "    \n",
    "    # Split into train and test\n",
    "    X_train, X_test, y_train, y_test = train_test_split(\n",
    "        arr_fn, arr_genres, test_size=0.3, random_state=42, stratify=arr_genres\n",
    "    )\n",
    "    \n",
    "    # Split into small segments and convert to spectrogram\n",
    "    X_train, y_train = split_convert(X_train, y_train)\n",
    "    X_test, y_test = split_convert(X_test, y_test)\n",
    "\n",
    "    return X_train, X_test, y_train, y_test"
   ]
  },
  {
   "cell_type": "code",
   "execution_count": 8,
   "metadata": {},
   "outputs": [],
   "source": [
    "# Parameters\n",
    "gtzan_dir = '../data/genres/'\n",
    "song_samples = 660000\n",
    "genres = {'metal': 0, 'disco': 1, 'classical': 2, 'hiphop': 3, 'jazz': 4, \n",
    "          'country': 5, 'pop': 6, 'blues': 7, 'reggae': 8, 'rock': 9}\n",
    "\n",
    "# Read the data\n",
    "X_train, X_test, y_train, y_test = read_data(gtzan_dir, genres, song_samples)"
   ]
  },
  {
   "cell_type": "code",
   "execution_count": 9,
   "metadata": {},
   "outputs": [
    {
     "name": "stdout",
     "output_type": "stream",
     "text": [
      "(13650, 128, 129, 1) (5850, 128, 129, 1) (13650, 10) (5850, 10)\n"
     ]
    }
   ],
   "source": [
    "print(X_train.shape, X_test.shape, y_train.shape, y_test.shape)"
   ]
  },
  {
   "cell_type": "code",
   "execution_count": 10,
   "metadata": {},
   "outputs": [
    {
     "data": {
      "image/png": "[encoded data removed]",
      "text/plain": [
       "<Figure size 432x288 with 1 Axes>"
      ]
     },
     "metadata": {
      "needs_background": "light"
     },
     "output_type": "display_data"
    }
   ],
   "source": [
    "# Histogram for train and test \n",
    "values, count = np.unique(np.argmax(y_train, axis=1), return_counts=True)\n",
    "plt.bar(values, count)\n",
    "\n",
    "values, count = np.unique(np.argmax(y_test, axis=1), return_counts=True)\n",
    "plt.bar(values, count)\n",
    "plt.show()"
   ]
  },
  {
   "cell_type": "markdown",
   "metadata": {},
   "source": [
    "# GTZAN Melspectrogram Generator"
   ]
  },
  {
   "cell_type": "code",
   "execution_count": 11,
   "metadata": {},
   "outputs": [],
   "source": [
    "from tensorflow.keras.utils import Sequence\n",
    "\n",
    "class GTZANGenerator(Sequence):\n",
    "    def __init__(self, X, y, batch_size=64, is_test = False):\n",
    "        self.X = X\n",
    "        self.y = y\n",
    "        self.batch_size = batch_size\n",
    "        self.is_test = is_test\n",
    "    \n",
    "    def __len__(self):\n",
    "        return int(np.ceil(len(self.X)/self.batch_size))\n",
    "    \n",
    "    def __getitem__(self, index):\n",
    "        # Get batch indexes\n",
    "        signals = self.X[index*self.batch_size:(index+1)*self.batch_size]\n",
    "\n",
    "        # Apply data augmentation\n",
    "        if not self.is_test:\n",
    "            signals = self.__augment(signals)\n",
    "        return signals, self.y[index*self.batch_size:(index+1)*self.batch_size]\n",
    "    \n",
    "    def __augment(self, signals, hor_flip = 0.5, random_cutout = 0.5):\n",
    "        spectrograms =  []\n",
    "        for s in signals:\n",
    "            signal = copy(s)\n",
    "            \n",
    "            # Perform horizontal flip\n",
    "            if np.random.rand() < hor_flip:\n",
    "                signal = np.flip(signal, 1)\n",
    "\n",
    "            # Perform random cutoout of some frequency/time\n",
    "            if np.random.rand() < random_cutout:\n",
    "                lines = np.random.randint(signal.shape[0], size=3)\n",
    "                cols = np.random.randint(signal.shape[0], size=4)\n",
    "                signal[lines, :, :] = -80 # dB\n",
    "                signal[:, cols, :] = -80 # dB\n",
    "\n",
    "            spectrograms.append(signal)\n",
    "        return np.array(spectrograms)\n",
    "    \n",
    "    def on_epoch_end(self):\n",
    "        self.indexes = np.arange(len(self.X))\n",
    "        np.random.shuffle(self.indexes)\n",
    "        return None"
   ]
  },
  {
   "cell_type": "markdown",
   "metadata": {},
   "source": [
    "# Custom CNN (Melspectrogram version)"
   ]
  },
  {
   "cell_type": "code",
   "execution_count": 12,
   "metadata": {},
   "outputs": [],
   "source": [
    "def conv_block(x, n_filters, pool_size=(2, 2)):\n",
    "    x = Conv2D(n_filters, (3, 3), strides=(1, 1), padding='same')(x)\n",
    "    x = Activation('relu')(x)\n",
    "    x = MaxPooling2D(pool_size=pool_size, strides=pool_size)(x)\n",
    "    x = Dropout(0.25)(x)\n",
    "    return x"
   ]
  },
  {
   "cell_type": "code",
   "execution_count": 13,
   "metadata": {},
   "outputs": [],
   "source": [
    "# Model Definition\n",
    "def create_model(input_shape, num_genres):\n",
    "    inpt = Input(shape=input_shape)\n",
    "    x = conv_block(inpt, 16)\n",
    "    x = conv_block(x, 32)\n",
    "    x = conv_block(x, 64)\n",
    "    x = conv_block(x, 128)\n",
    "    x = conv_block(x, 256)\n",
    "    \n",
    "    # Global Pooling and MLP\n",
    "    x = Flatten()(x)\n",
    "    x = Dropout(0.5)(x)\n",
    "    x = Dense(512, activation='relu', \n",
    "              kernel_regularizer=tf.keras.regularizers.l2(0.02))(x)\n",
    "    x = Dropout(0.25)(x)\n",
    "    predictions = Dense(num_genres, \n",
    "                        activation='softmax', \n",
    "                        kernel_regularizer=tf.keras.regularizers.l2(0.02))(x)\n",
    "    \n",
    "    model = Model(inputs=inpt, outputs=predictions)\n",
    "    return model"
   ]
  },
  {
   "cell_type": "code",
   "execution_count": 14,
   "metadata": {},
   "outputs": [],
   "source": [
    "model = create_model(X_train[0].shape, len(genres))"
   ]
  },
  {
   "cell_type": "code",
   "execution_count": 15,
   "metadata": {},
   "outputs": [
    {
     "name": "stdout",
     "output_type": "stream",
     "text": [
      "Model: \"model\"\n",
      "_________________________________________________________________\n",
      "Layer (type)                 Output Shape              Param #   \n",
      "=================================================================\n",
      "input_1 (InputLayer)         [(None, 128, 129, 1)]     0         \n",
      "_________________________________________________________________\n",
      "conv2d (Conv2D)              (None, 128, 129, 16)      160       \n",
      "_________________________________________________________________\n",
      "activation (Activation)      (None, 128, 129, 16)      0         \n",
      "_________________________________________________________________\n",
      "max_pooling2d (MaxPooling2D) (None, 64, 64, 16)        0         \n",
      "_________________________________________________________________\n",
      "dropout (Dropout)            (None, 64, 64, 16)        0         \n",
      "_________________________________________________________________\n",
      "conv2d_1 (Conv2D)            (None, 64, 64, 32)        4640      \n",
      "_________________________________________________________________\n",
      "activation_1 (Activation)    (None, 64, 64, 32)        0         \n",
      "_________________________________________________________________\n",
      "max_pooling2d_1 (MaxPooling2 (None, 32, 32, 32)        0         \n",
      "_________________________________________________________________\n",
      "dropout_1 (Dropout)          (None, 32, 32, 32)        0         \n",
      "_________________________________________________________________\n",
      "conv2d_2 (Conv2D)            (None, 32, 32, 64)        18496     \n",
      "_________________________________________________________________\n",
      "activation_2 (Activation)    (None, 32, 32, 64)        0         \n",
      "_________________________________________________________________\n",
      "max_pooling2d_2 (MaxPooling2 (None, 16, 16, 64)        0         \n",
      "_________________________________________________________________\n",
      "dropout_2 (Dropout)          (None, 16, 16, 64)        0         \n",
      "_________________________________________________________________\n",
      "conv2d_3 (Conv2D)            (None, 16, 16, 128)       73856     \n",
      "_________________________________________________________________\n",
      "activation_3 (Activation)    (None, 16, 16, 128)       0         \n",
      "_________________________________________________________________\n",
      "max_pooling2d_3 (MaxPooling2 (None, 8, 8, 128)         0         \n",
      "_________________________________________________________________\n",
      "dropout_3 (Dropout)          (None, 8, 8, 128)         0         \n",
      "_________________________________________________________________\n",
      "conv2d_4 (Conv2D)            (None, 8, 8, 256)         295168    \n",
      "_________________________________________________________________\n",
      "activation_4 (Activation)    (None, 8, 8, 256)         0         \n",
      "_________________________________________________________________\n",
      "max_pooling2d_4 (MaxPooling2 (None, 4, 4, 256)         0         \n",
      "_________________________________________________________________\n",
      "dropout_4 (Dropout)          (None, 4, 4, 256)         0         \n",
      "_________________________________________________________________\n",
      "flatten (Flatten)            (None, 4096)              0         \n",
      "_________________________________________________________________\n",
      "dropout_5 (Dropout)          (None, 4096)              0         \n",
      "_________________________________________________________________\n",
      "dense (Dense)                (None, 512)               2097664   \n",
      "_________________________________________________________________\n",
      "dropout_6 (Dropout)          (None, 512)               0         \n",
      "_________________________________________________________________\n",
      "dense_1 (Dense)              (None, 10)                5130      \n",
      "=================================================================\n",
      "Total params: 2,495,114\n",
      "Trainable params: 2,495,114\n",
      "Non-trainable params: 0\n",
      "_________________________________________________________________\n"
     ]
    }
   ],
   "source": [
    "model.summary()"
   ]
  },
  {
   "cell_type": "markdown",
   "metadata": {},
   "source": [
    "### Loss function"
   ]
  },
  {
   "cell_type": "code",
   "execution_count": 16,
   "metadata": {},
   "outputs": [],
   "source": [
    "model.compile(loss=tf.keras.losses.categorical_crossentropy,\n",
    "              optimizer=tf.keras.optimizers.Adam(),\n",
    "              metrics=['accuracy'])"
   ]
  },
  {
   "cell_type": "code",
   "execution_count": 17,
   "metadata": {},
   "outputs": [],
   "source": [
    "reduceLROnPlat = ReduceLROnPlateau(\n",
    "    monitor='val_loss', \n",
    "    factor=0.95,\n",
    "    patience=3,\n",
    "    verbose=1,\n",
    "    mode='min',\n",
    "    min_delta=0.0001,\n",
    "    cooldown=2,\n",
    "    min_lr=1e-5\n",
    ")"
   ]
  },
  {
   "cell_type": "code",
   "execution_count": 18,
   "metadata": {},
   "outputs": [],
   "source": [
    "# Generators\n",
    "batch_size = 128\n",
    "train_generator = GTZANGenerator(X_train, y_train)\n",
    "steps_per_epoch = np.ceil(len(X_train)/batch_size)\n",
    "\n",
    "validation_generator = GTZANGenerator(X_test, y_test)\n",
    "val_steps = np.ceil(len(X_test)/batch_size)"
   ]
  },
  {
   "cell_type": "code",
   "execution_count": 19,
   "metadata": {
    "scrolled": true
   },
   "outputs": [
    {
     "name": "stdout",
     "output_type": "stream",
     "text": [
      "Epoch 1/150\n",
      "107/107 [==============================] - 48s 450ms/step - loss: 15.4083 - accuracy: 0.1024 - val_loss: 6.3458 - val_accuracy: 0.1365\n",
      "Epoch 2/150\n",
      "107/107 [==============================] - 50s 467ms/step - loss: 4.7938 - accuracy: 0.1342 - val_loss: 3.7542 - val_accuracy: 0.1875\n",
      "Epoch 3/150\n",
      "107/107 [==============================] - 50s 468ms/step - loss: 3.2356 - accuracy: 0.1851 - val_loss: 2.8291 - val_accuracy: 0.1963\n",
      "Epoch 4/150\n",
      "107/107 [==============================] - 50s 471ms/step - loss: 2.7110 - accuracy: 0.1898 - val_loss: 2.5953 - val_accuracy: 0.1814\n",
      "Epoch 5/150\n",
      "107/107 [==============================] - 50s 469ms/step - loss: 2.4535 - accuracy: 0.1920 - val_loss: 2.2763 - val_accuracy: 0.1997\n",
      "Epoch 6/150\n",
      "107/107 [==============================] - 50s 469ms/step - loss: 2.3133 - accuracy: 0.2065 - val_loss: 2.2265 - val_accuracy: 0.2266\n",
      "Epoch 7/150\n",
      "107/107 [==============================] - 50s 467ms/step - loss: 2.2098 - accuracy: 0.2569 - val_loss: 2.2714 - val_accuracy: 0.1688\n",
      "Epoch 8/150\n",
      "107/107 [==============================] - 50s 466ms/step - loss: 2.2188 - accuracy: 0.1795 - val_loss: 2.2566 - val_accuracy: 0.1974\n",
      "Epoch 9/150\n",
      "107/107 [==============================] - 50s 466ms/step - loss: 2.0920 - accuracy: 0.2426 - val_loss: 2.0975 - val_accuracy: 0.2415\n",
      "Epoch 10/150\n",
      "107/107 [==============================] - 50s 469ms/step - loss: 2.1444 - accuracy: 0.2357 - val_loss: 2.1531 - val_accuracy: 0.2045\n",
      "Epoch 11/150\n",
      "107/107 [==============================] - 50s 468ms/step - loss: 2.0778 - accuracy: 0.2498 - val_loss: 1.9860 - val_accuracy: 0.2486\n",
      "Epoch 12/150\n",
      "107/107 [==============================] - 50s 470ms/step - loss: 2.1452 - accuracy: 0.2157 - val_loss: 1.9891 - val_accuracy: 0.2758\n",
      "Epoch 13/150\n",
      "107/107 [==============================] - 49s 454ms/step - loss: 2.0618 - accuracy: 0.2729 - val_loss: 2.0739 - val_accuracy: 0.2918\n",
      "Epoch 14/150\n",
      "106/107 [============================>.] - ETA: 0s - loss: 2.0300 - accuracy: 0.2546\n",
      "Epoch 00014: ReduceLROnPlateau reducing learning rate to 0.0009500000451225787.\n",
      "107/107 [==============================] - 32s 303ms/step - loss: 2.0262 - accuracy: 0.2588 - val_loss: 1.9916 - val_accuracy: 0.2592\n",
      "Epoch 15/150\n",
      "107/107 [==============================] - 38s 354ms/step - loss: 1.9876 - accuracy: 0.2710 - val_loss: 2.0317 - val_accuracy: 0.2602\n",
      "Epoch 16/150\n",
      "107/107 [==============================] - 50s 469ms/step - loss: 2.0189 - accuracy: 0.2452 - val_loss: 1.9913 - val_accuracy: 0.2565\n",
      "Epoch 17/150\n",
      "107/107 [==============================] - 50s 470ms/step - loss: 1.9390 - accuracy: 0.2685 - val_loss: 1.8959 - val_accuracy: 0.3152\n",
      "Epoch 18/150\n",
      "107/107 [==============================] - 51s 474ms/step - loss: 2.0170 - accuracy: 0.2713 - val_loss: 2.1074 - val_accuracy: 0.1987\n",
      "Epoch 19/150\n",
      "107/107 [==============================] - 51s 472ms/step - loss: 1.9768 - accuracy: 0.2986 - val_loss: 2.0015 - val_accuracy: 0.2344\n",
      "Epoch 20/150\n",
      "107/107 [==============================] - 50s 471ms/step - loss: 1.9460 - accuracy: 0.2829 - val_loss: 1.8300 - val_accuracy: 0.3618\n",
      "Epoch 21/150\n",
      "107/107 [==============================] - 50s 469ms/step - loss: 1.9336 - accuracy: 0.2824 - val_loss: 2.0038 - val_accuracy: 0.2846\n",
      "Epoch 22/150\n",
      "107/107 [==============================] - 51s 473ms/step - loss: 1.9755 - accuracy: 0.2734 - val_loss: 1.8262 - val_accuracy: 0.3373\n",
      "Epoch 23/150\n",
      "107/107 [==============================] - 49s 454ms/step - loss: 1.9015 - accuracy: 0.2886 - val_loss: 1.8610 - val_accuracy: 0.3315\n",
      "Epoch 24/150\n",
      "107/107 [==============================] - 32s 301ms/step - loss: 1.9102 - accuracy: 0.3093 - val_loss: 1.9371 - val_accuracy: 0.3091\n",
      "Epoch 25/150\n",
      "106/107 [============================>.] - ETA: 0s - loss: 1.8758 - accuracy: 0.3118\n",
      "Epoch 00025: ReduceLROnPlateau reducing learning rate to 0.0009025000152178108.\n",
      "107/107 [==============================] - 35s 324ms/step - loss: 1.8714 - accuracy: 0.3150 - val_loss: 1.8470 - val_accuracy: 0.3101\n",
      "Epoch 26/150\n",
      "107/107 [==============================] - 50s 470ms/step - loss: 1.9090 - accuracy: 0.2812 - val_loss: 1.8346 - val_accuracy: 0.3845\n",
      "Epoch 27/150\n",
      "107/107 [==============================] - 50s 471ms/step - loss: 1.8524 - accuracy: 0.3360 - val_loss: 1.8181 - val_accuracy: 0.3118\n",
      "Epoch 28/150\n",
      "107/107 [==============================] - 44s 412ms/step - loss: 1.9119 - accuracy: 0.3109 - val_loss: 1.7932 - val_accuracy: 0.3043\n",
      "Epoch 29/150\n",
      "107/107 [==============================] - 32s 304ms/step - loss: 1.8696 - accuracy: 0.3204 - val_loss: 1.8541 - val_accuracy: 0.3353\n",
      "Epoch 30/150\n",
      "107/107 [==============================] - 33s 308ms/step - loss: 1.8278 - accuracy: 0.3312 - val_loss: 1.7906 - val_accuracy: 0.3811\n",
      "Epoch 31/150\n",
      "107/107 [==============================] - 34s 313ms/step - loss: 1.8353 - accuracy: 0.3395 - val_loss: 1.7692 - val_accuracy: 0.3770\n",
      "Epoch 32/150\n",
      "107/107 [==============================] - 50s 467ms/step - loss: 1.8661 - accuracy: 0.2933 - val_loss: 1.7925 - val_accuracy: 0.3139\n",
      "Epoch 33/150\n",
      "107/107 [==============================] - 44s 412ms/step - loss: 1.8225 - accuracy: 0.3335 - val_loss: 1.8527 - val_accuracy: 0.2687\n",
      "Epoch 34/150\n",
      "107/107 [==============================] - 43s 401ms/step - loss: 1.8275 - accuracy: 0.3234 - val_loss: 1.7363 - val_accuracy: 0.3906\n",
      "Epoch 35/150\n",
      "107/107 [==============================] - 34s 317ms/step - loss: 1.8017 - accuracy: 0.3362 - val_loss: 1.7179 - val_accuracy: 0.3529\n",
      "Epoch 36/150\n",
      "107/107 [==============================] - 34s 322ms/step - loss: 1.8388 - accuracy: 0.3443 - val_loss: 1.7868 - val_accuracy: 0.2731\n",
      "Epoch 37/150\n",
      "107/107 [==============================] - 34s 319ms/step - loss: 1.7468 - accuracy: 0.3642 - val_loss: 1.7615 - val_accuracy: 0.2948\n",
      "Epoch 38/150\n",
      "107/107 [==============================] - 50s 472ms/step - loss: 1.8338 - accuracy: 0.3077 - val_loss: 1.6997 - val_accuracy: 0.3611\n",
      "Epoch 39/150\n",
      "107/107 [==============================] - 42s 389ms/step - loss: 1.7836 - accuracy: 0.3563 - val_loss: 1.7718 - val_accuracy: 0.3519\n",
      "Epoch 40/150\n",
      "107/107 [==============================] - 34s 314ms/step - loss: 1.7780 - accuracy: 0.3572 - val_loss: 1.7929 - val_accuracy: 0.2952\n",
      "Epoch 41/150\n",
      "106/107 [============================>.] - ETA: 0s - loss: 1.7469 - accuracy: 0.3665\n",
      "Epoch 00041: ReduceLROnPlateau reducing learning rate to 0.0008573750033974647.\n",
      "107/107 [==============================] - 34s 321ms/step - loss: 1.7417 - accuracy: 0.3699 - val_loss: 1.7314 - val_accuracy: 0.3760\n",
      "Epoch 42/150\n",
      "107/107 [==============================] - 41s 385ms/step - loss: 1.8053 - accuracy: 0.3487 - val_loss: 1.8622 - val_accuracy: 0.3037\n",
      "Epoch 43/150\n",
      "107/107 [==============================] - 34s 316ms/step - loss: 1.7009 - accuracy: 0.3814 - val_loss: 1.7264 - val_accuracy: 0.3971\n",
      "Epoch 44/150\n",
      "107/107 [==============================] - 49s 454ms/step - loss: 1.7859 - accuracy: 0.3725 - val_loss: 1.7267 - val_accuracy: 0.3410\n",
      "Epoch 45/150\n",
      "106/107 [============================>.] - ETA: 0s - loss: 1.6908 - accuracy: 0.3882\n",
      "Epoch 00045: ReduceLROnPlateau reducing learning rate to 0.0008145062311086804.\n",
      "107/107 [==============================] - 47s 442ms/step - loss: 1.6878 - accuracy: 0.3892 - val_loss: 1.7800 - val_accuracy: 0.3444\n",
      "Epoch 46/150\n",
      "107/107 [==============================] - 52s 488ms/step - loss: 1.7327 - accuracy: 0.3804 - val_loss: 1.6783 - val_accuracy: 0.3967\n",
      "Epoch 47/150\n",
      "107/107 [==============================] - 52s 482ms/step - loss: 1.7277 - accuracy: 0.3759 - val_loss: 1.5872 - val_accuracy: 0.3944\n",
      "Epoch 48/150\n",
      "107/107 [==============================] - 50s 471ms/step - loss: 1.6092 - accuracy: 0.4384 - val_loss: 1.6848 - val_accuracy: 0.3421\n",
      "Epoch 49/150\n",
      "107/107 [==============================] - 51s 472ms/step - loss: 1.6556 - accuracy: 0.4216 - val_loss: 1.6031 - val_accuracy: 0.4025\n",
      "Epoch 50/150\n",
      "106/107 [============================>.] - ETA: 0s - loss: 1.6959 - accuracy: 0.3953\n",
      "Epoch 00050: ReduceLROnPlateau reducing learning rate to 0.0007737808919046074.\n",
      "107/107 [==============================] - 51s 475ms/step - loss: 1.6921 - accuracy: 0.3988 - val_loss: 1.6681 - val_accuracy: 0.3658\n",
      "Epoch 51/150\n",
      "107/107 [==============================] - 51s 476ms/step - loss: 1.6429 - accuracy: 0.4044 - val_loss: 1.7282 - val_accuracy: 0.4018\n",
      "Epoch 52/150\n",
      "107/107 [==============================] - 51s 478ms/step - loss: 1.7072 - accuracy: 0.4043 - val_loss: 1.6626 - val_accuracy: 0.3920\n",
      "Epoch 53/150\n",
      "107/107 [==============================] - 51s 480ms/step - loss: 1.5994 - accuracy: 0.4423 - val_loss: 1.6383 - val_accuracy: 0.4066\n",
      "Epoch 54/150\n",
      "106/107 [============================>.] - ETA: 0s - loss: 1.6329 - accuracy: 0.4389\n",
      "Epoch 00054: ReduceLROnPlateau reducing learning rate to 0.000735091819660738.\n",
      "107/107 [==============================] - 51s 474ms/step - loss: 1.6311 - accuracy: 0.4391 - val_loss: 1.6910 - val_accuracy: 0.4181\n",
      "Epoch 55/150\n",
      "107/107 [==============================] - 50s 471ms/step - loss: 1.5767 - accuracy: 0.4652 - val_loss: 1.5478 - val_accuracy: 0.4392\n",
      "Epoch 56/150\n",
      "107/107 [==============================] - 51s 474ms/step - loss: 1.6571 - accuracy: 0.4344 - val_loss: 1.6752 - val_accuracy: 0.3750\n",
      "Epoch 57/150\n",
      "107/107 [==============================] - 50s 469ms/step - loss: 1.5174 - accuracy: 0.4756 - val_loss: 1.5130 - val_accuracy: 0.4674\n",
      "Epoch 58/150\n",
      "107/107 [==============================] - 50s 468ms/step - loss: 1.6220 - accuracy: 0.4394 - val_loss: 1.4782 - val_accuracy: 0.4888\n",
      "Epoch 59/150\n",
      "107/107 [==============================] - 36s 340ms/step - loss: 1.5212 - accuracy: 0.4863 - val_loss: 1.5808 - val_accuracy: 0.4209\n",
      "Epoch 60/150\n",
      "107/107 [==============================] - 33s 307ms/step - loss: 1.5676 - accuracy: 0.4732 - val_loss: 1.6520 - val_accuracy: 0.4592\n",
      "Epoch 61/150\n",
      "106/107 [============================>.] - ETA: 0s - loss: 1.4892 - accuracy: 0.5057\n",
      "Epoch 00061: ReduceLROnPlateau reducing learning rate to 0.0006983372120885178.\n",
      "107/107 [==============================] - 34s 313ms/step - loss: 1.4940 - accuracy: 0.5050 - val_loss: 1.6693 - val_accuracy: 0.4348\n",
      "Epoch 62/150\n",
      "107/107 [==============================] - 34s 313ms/step - loss: 1.5319 - accuracy: 0.4744 - val_loss: 1.4781 - val_accuracy: 0.4796\n",
      "Epoch 63/150\n",
      "107/107 [==============================] - 34s 316ms/step - loss: 1.4301 - accuracy: 0.5340 - val_loss: 1.4624 - val_accuracy: 0.4908\n",
      "Epoch 64/150\n",
      "107/107 [==============================] - 34s 319ms/step - loss: 1.5098 - accuracy: 0.4927 - val_loss: 1.5735 - val_accuracy: 0.4107\n",
      "Epoch 65/150\n",
      "107/107 [==============================] - 48s 451ms/step - loss: 1.5000 - accuracy: 0.4946 - val_loss: 1.5284 - val_accuracy: 0.4881\n",
      "Epoch 66/150\n",
      "107/107 [==============================] - 50s 469ms/step - loss: 1.4012 - accuracy: 0.5367 - val_loss: 1.3543 - val_accuracy: 0.5391\n",
      "Epoch 67/150\n",
      "107/107 [==============================] - 50s 469ms/step - loss: 1.3855 - accuracy: 0.5464 - val_loss: 1.3872 - val_accuracy: 0.5625\n",
      "Epoch 68/150\n",
      "107/107 [==============================] - 50s 465ms/step - loss: 1.5260 - accuracy: 0.4807 - val_loss: 1.3658 - val_accuracy: 0.5279\n",
      "Epoch 69/150\n",
      "106/107 [============================>.] - ETA: 0s - loss: 1.3978 - accuracy: 0.5479\n",
      "Epoch 00069: ReduceLROnPlateau reducing learning rate to 0.0006634203542489559.\n",
      "107/107 [==============================] - 50s 468ms/step - loss: 1.3957 - accuracy: 0.5483 - val_loss: 1.4917 - val_accuracy: 0.4932\n",
      "Epoch 70/150\n",
      "107/107 [==============================] - 50s 466ms/step - loss: 1.4095 - accuracy: 0.5218 - val_loss: 1.4962 - val_accuracy: 0.5319\n",
      "Epoch 71/150\n",
      "107/107 [==============================] - 50s 469ms/step - loss: 1.3637 - accuracy: 0.5460 - val_loss: 1.3088 - val_accuracy: 0.5713\n",
      "Epoch 72/150\n",
      "107/107 [==============================] - 50s 464ms/step - loss: 1.3878 - accuracy: 0.5387 - val_loss: 1.3886 - val_accuracy: 0.5041\n",
      "Epoch 73/150\n",
      "107/107 [==============================] - 50s 468ms/step - loss: 1.3434 - accuracy: 0.5603 - val_loss: 1.5363 - val_accuracy: 0.5160\n",
      "Epoch 74/150\n",
      "106/107 [============================>.] - ETA: 0s - loss: 1.3860 - accuracy: 0.5395\n",
      "Epoch 00074: ReduceLROnPlateau reducing learning rate to 0.0006302493420662358.\n",
      "107/107 [==============================] - 50s 465ms/step - loss: 1.3921 - accuracy: 0.5385 - val_loss: 1.4002 - val_accuracy: 0.5200\n",
      "Epoch 75/150\n",
      "107/107 [==============================] - 50s 469ms/step - loss: 1.3691 - accuracy: 0.5511 - val_loss: 1.3234 - val_accuracy: 0.5859\n",
      "Epoch 76/150\n",
      "107/107 [==============================] - 50s 466ms/step - loss: 1.3310 - accuracy: 0.5695 - val_loss: 1.3329 - val_accuracy: 0.5455\n",
      "Epoch 77/150\n",
      "107/107 [==============================] - 50s 468ms/step - loss: 1.3398 - accuracy: 0.5507 - val_loss: 1.3639 - val_accuracy: 0.5557\n",
      "Epoch 78/150\n",
      "106/107 [============================>.] - ETA: 0s - loss: 1.3305 - accuracy: 0.5864\n",
      "Epoch 00078: ReduceLROnPlateau reducing learning rate to 0.0005987368611386045.\n",
      "107/107 [==============================] - 50s 469ms/step - loss: 1.3366 - accuracy: 0.5821 - val_loss: 1.3447 - val_accuracy: 0.5839\n",
      "Epoch 79/150\n",
      "107/107 [==============================] - 50s 468ms/step - loss: 1.3885 - accuracy: 0.5524 - val_loss: 1.3257 - val_accuracy: 0.5598\n",
      "Epoch 80/150\n",
      "107/107 [==============================] - 50s 466ms/step - loss: 1.1977 - accuracy: 0.6204 - val_loss: 1.3723 - val_accuracy: 0.5669\n",
      "Epoch 81/150\n",
      "107/107 [==============================] - 50s 468ms/step - loss: 1.3111 - accuracy: 0.5940 - val_loss: 1.2947 - val_accuracy: 0.5459\n",
      "Epoch 82/150\n",
      "107/107 [==============================] - 50s 466ms/step - loss: 1.2755 - accuracy: 0.5876 - val_loss: 1.2251 - val_accuracy: 0.6033\n",
      "Epoch 83/150\n",
      "107/107 [==============================] - 50s 466ms/step - loss: 1.2742 - accuracy: 0.5973 - val_loss: 1.3357 - val_accuracy: 0.5744\n",
      "Epoch 84/150\n",
      "107/107 [==============================] - 50s 471ms/step - loss: 1.2406 - accuracy: 0.6171 - val_loss: 1.3022 - val_accuracy: 0.5696\n",
      "Epoch 85/150\n",
      "106/107 [============================>.] - ETA: 0s - loss: 1.2610 - accuracy: 0.6024\n",
      "Epoch 00085: ReduceLROnPlateau reducing learning rate to 0.0005688000208465382.\n",
      "107/107 [==============================] - 50s 465ms/step - loss: 1.2750 - accuracy: 0.5995 - val_loss: 1.3849 - val_accuracy: 0.5109\n",
      "Epoch 86/150\n",
      "107/107 [==============================] - 50s 469ms/step - loss: 1.2158 - accuracy: 0.6176 - val_loss: 1.3059 - val_accuracy: 0.5768\n",
      "Epoch 87/150\n",
      "107/107 [==============================] - 50s 469ms/step - loss: 1.2558 - accuracy: 0.6211 - val_loss: 1.2067 - val_accuracy: 0.6196\n",
      "Epoch 88/150\n",
      "107/107 [==============================] - 50s 467ms/step - loss: 1.2023 - accuracy: 0.6157 - val_loss: 1.2671 - val_accuracy: 0.5934\n",
      "Epoch 89/150\n",
      "107/107 [==============================] - 50s 466ms/step - loss: 1.1626 - accuracy: 0.6366 - val_loss: 1.2096 - val_accuracy: 0.6162\n",
      "Epoch 90/150\n",
      "106/107 [============================>.] - ETA: 0s - loss: 1.2783 - accuracy: 0.6129\n",
      "Epoch 00090: ReduceLROnPlateau reducing learning rate to 0.0005403600225690752.\n",
      "107/107 [==============================] - 50s 470ms/step - loss: 1.2799 - accuracy: 0.6126 - val_loss: 1.2764 - val_accuracy: 0.5938\n",
      "Epoch 91/150\n",
      "107/107 [==============================] - 51s 474ms/step - loss: 1.2062 - accuracy: 0.6256 - val_loss: 1.2762 - val_accuracy: 0.5910\n",
      "Epoch 92/150\n",
      "107/107 [==============================] - 51s 473ms/step - loss: 1.1456 - accuracy: 0.6441 - val_loss: 1.3029 - val_accuracy: 0.5761\n",
      "Epoch 93/150\n",
      "107/107 [==============================] - 50s 469ms/step - loss: 1.1903 - accuracy: 0.6265 - val_loss: 1.2175 - val_accuracy: 0.6243\n",
      "Epoch 94/150\n",
      "106/107 [============================>.] - ETA: 0s - loss: 1.2063 - accuracy: 0.6116\n",
      "Epoch 00094: ReduceLROnPlateau reducing learning rate to 0.0005133419937919825.\n",
      "107/107 [==============================] - 50s 468ms/step - loss: 1.2178 - accuracy: 0.6073 - val_loss: 1.2554 - val_accuracy: 0.6043\n",
      "Epoch 95/150\n",
      "107/107 [==============================] - 51s 473ms/step - loss: 1.1571 - accuracy: 0.6548 - val_loss: 1.1841 - val_accuracy: 0.6236\n",
      "Epoch 96/150\n",
      "107/107 [==============================] - 50s 472ms/step - loss: 1.1300 - accuracy: 0.6453 - val_loss: 1.1460 - val_accuracy: 0.6338\n",
      "Epoch 97/150\n",
      "107/107 [==============================] - 51s 473ms/step - loss: 1.1116 - accuracy: 0.6691 - val_loss: 1.2549 - val_accuracy: 0.6101\n",
      "Epoch 98/150\n",
      "107/107 [==============================] - 52s 482ms/step - loss: 1.1623 - accuracy: 0.6377 - val_loss: 1.1383 - val_accuracy: 0.6478\n",
      "Epoch 99/150\n",
      "107/107 [==============================] - 51s 476ms/step - loss: 1.1884 - accuracy: 0.6438 - val_loss: 1.2115 - val_accuracy: 0.6393\n",
      "Epoch 100/150\n",
      "107/107 [==============================] - 50s 472ms/step - loss: 1.1065 - accuracy: 0.6667 - val_loss: 1.2315 - val_accuracy: 0.6033\n",
      "Epoch 101/150\n",
      "107/107 [==============================] - 41s 386ms/step - loss: 1.1097 - accuracy: 0.6511 - val_loss: 1.1330 - val_accuracy: 0.6433\n",
      "Epoch 102/150\n",
      "107/107 [==============================] - 50s 464ms/step - loss: 1.0799 - accuracy: 0.6777 - val_loss: 1.2396 - val_accuracy: 0.6022\n",
      "Epoch 103/150\n",
      "107/107 [==============================] - 50s 467ms/step - loss: 1.0063 - accuracy: 0.6841 - val_loss: 1.1476 - val_accuracy: 0.6440\n",
      "Epoch 104/150\n",
      "106/107 [============================>.] - ETA: 0s - loss: 1.1601 - accuracy: 0.6514\n",
      "Epoch 00104: ReduceLROnPlateau reducing learning rate to 0.0004876748775132.\n",
      "107/107 [==============================] - 50s 468ms/step - loss: 1.1631 - accuracy: 0.6508 - val_loss: 1.2004 - val_accuracy: 0.6250\n",
      "Epoch 105/150\n",
      "107/107 [==============================] - 50s 469ms/step - loss: 1.1395 - accuracy: 0.6351 - val_loss: 1.1111 - val_accuracy: 0.6549\n",
      "Epoch 106/150\n",
      "107/107 [==============================] - 51s 476ms/step - loss: 1.0154 - accuracy: 0.7028 - val_loss: 1.1491 - val_accuracy: 0.6393\n",
      "Epoch 107/150\n",
      "107/107 [==============================] - 50s 467ms/step - loss: 1.0817 - accuracy: 0.6711 - val_loss: 1.1579 - val_accuracy: 0.6189\n",
      "Epoch 108/150\n",
      "106/107 [============================>.] - ETA: 0s - loss: 1.0650 - accuracy: 0.6788\n",
      "Epoch 00108: ReduceLROnPlateau reducing learning rate to 0.00046329112810781223.\n",
      "107/107 [==============================] - 50s 470ms/step - loss: 1.0697 - accuracy: 0.6779 - val_loss: 1.1289 - val_accuracy: 0.6603\n",
      "Epoch 109/150\n",
      "107/107 [==============================] - 50s 469ms/step - loss: 1.0657 - accuracy: 0.6808 - val_loss: 1.1537 - val_accuracy: 0.6447\n",
      "Epoch 110/150\n",
      "107/107 [==============================] - 51s 477ms/step - loss: 1.0408 - accuracy: 0.6783 - val_loss: 1.1447 - val_accuracy: 0.6484\n",
      "Epoch 111/150\n",
      "107/107 [==============================] - 51s 478ms/step - loss: 1.0467 - accuracy: 0.6748 - val_loss: 1.1236 - val_accuracy: 0.6539\n",
      "Epoch 112/150\n",
      "106/107 [============================>.] - ETA: 0s - loss: 0.9977 - accuracy: 0.7017\n",
      "Epoch 00112: ReduceLROnPlateau reducing learning rate to 0.00044012657308485355.\n",
      "107/107 [==============================] - 51s 476ms/step - loss: 1.0064 - accuracy: 0.6998 - val_loss: 1.1913 - val_accuracy: 0.6382\n",
      "Epoch 113/150\n",
      "107/107 [==============================] - 51s 477ms/step - loss: 0.9700 - accuracy: 0.7061 - val_loss: 1.0551 - val_accuracy: 0.6814\n",
      "Epoch 114/150\n",
      "107/107 [==============================] - 51s 475ms/step - loss: 1.0744 - accuracy: 0.6641 - val_loss: 1.1150 - val_accuracy: 0.6464\n",
      "Epoch 115/150\n",
      "107/107 [==============================] - 50s 471ms/step - loss: 0.9877 - accuracy: 0.7078 - val_loss: 1.1614 - val_accuracy: 0.6168\n",
      "Epoch 116/150\n",
      "106/107 [============================>.] - ETA: 0s - loss: 1.0258 - accuracy: 0.6834\n",
      "Epoch 00116: ReduceLROnPlateau reducing learning rate to 0.00041812024719547477.\n",
      "107/107 [==============================] - 50s 470ms/step - loss: 1.0298 - accuracy: 0.6826 - val_loss: 1.1126 - val_accuracy: 0.6461\n",
      "Epoch 117/150\n",
      "107/107 [==============================] - 48s 452ms/step - loss: 0.9869 - accuracy: 0.6982 - val_loss: 1.1087 - val_accuracy: 0.6634\n",
      "Epoch 118/150\n",
      "107/107 [==============================] - 43s 405ms/step - loss: 1.0114 - accuracy: 0.7058 - val_loss: 1.0777 - val_accuracy: 0.6726\n",
      "Epoch 119/150\n",
      "107/107 [==============================] - 36s 337ms/step - loss: 0.9637 - accuracy: 0.7082 - val_loss: 1.0970 - val_accuracy: 0.6454\n",
      "Epoch 120/150\n",
      "106/107 [============================>.] - ETA: 0s - loss: 1.0106 - accuracy: 0.6975\n",
      "Epoch 00120: ReduceLROnPlateau reducing learning rate to 0.00039721422654110934.\n",
      "107/107 [==============================] - 39s 368ms/step - loss: 1.0091 - accuracy: 0.6977 - val_loss: 1.0577 - val_accuracy: 0.6776\n",
      "Epoch 121/150\n",
      "107/107 [==============================] - 50s 469ms/step - loss: 0.9826 - accuracy: 0.7179 - val_loss: 1.1393 - val_accuracy: 0.6399\n",
      "Epoch 122/150\n",
      "107/107 [==============================] - 50s 467ms/step - loss: 0.9690 - accuracy: 0.7089 - val_loss: 1.1916 - val_accuracy: 0.6253\n",
      "Epoch 123/150\n",
      "107/107 [==============================] - 50s 468ms/step - loss: 0.9668 - accuracy: 0.7099 - val_loss: 1.0368 - val_accuracy: 0.6719\n",
      "Epoch 124/150\n",
      "107/107 [==============================] - 50s 469ms/step - loss: 0.9316 - accuracy: 0.7227 - val_loss: 1.1068 - val_accuracy: 0.6518\n",
      "Epoch 125/150\n",
      "107/107 [==============================] - 51s 474ms/step - loss: 0.9876 - accuracy: 0.7001 - val_loss: 1.0716 - val_accuracy: 0.6804\n",
      "Epoch 126/150\n",
      "106/107 [============================>.] - ETA: 0s - loss: 0.9045 - accuracy: 0.7343\n",
      "Epoch 00126: ReduceLROnPlateau reducing learning rate to 0.00037735351797891776.\n",
      "107/107 [==============================] - 51s 474ms/step - loss: 0.9071 - accuracy: 0.7336 - val_loss: 1.0398 - val_accuracy: 0.6936\n",
      "Epoch 127/150\n",
      "107/107 [==============================] - 51s 476ms/step - loss: 0.9340 - accuracy: 0.7243 - val_loss: 1.0720 - val_accuracy: 0.6743\n",
      "Epoch 128/150\n",
      "107/107 [==============================] - 51s 475ms/step - loss: 0.9379 - accuracy: 0.7218 - val_loss: 1.0518 - val_accuracy: 0.6783\n",
      "Epoch 129/150\n",
      "107/107 [==============================] - 51s 476ms/step - loss: 0.9411 - accuracy: 0.7279 - val_loss: 1.0335 - val_accuracy: 0.6834\n",
      "Epoch 130/150\n",
      "107/107 [==============================] - 52s 482ms/step - loss: 0.9268 - accuracy: 0.7247 - val_loss: 1.0729 - val_accuracy: 0.6566\n",
      "Epoch 131/150\n",
      "107/107 [==============================] - 50s 470ms/step - loss: 0.8875 - accuracy: 0.7345 - val_loss: 1.0183 - val_accuracy: 0.6906\n",
      "Epoch 132/150\n",
      "107/107 [==============================] - 51s 474ms/step - loss: 0.9769 - accuracy: 0.7068 - val_loss: 1.0508 - val_accuracy: 0.6681\n",
      "Epoch 133/150\n",
      "107/107 [==============================] - 51s 476ms/step - loss: 0.8863 - accuracy: 0.7313 - val_loss: 1.1688 - val_accuracy: 0.6379\n",
      "Epoch 134/150\n",
      "106/107 [============================>.] - ETA: 0s - loss: 0.9631 - accuracy: 0.7134\n",
      "Epoch 00134: ReduceLROnPlateau reducing learning rate to 0.00035848583793267607.\n",
      "107/107 [==============================] - 51s 474ms/step - loss: 0.9579 - accuracy: 0.7152 - val_loss: 1.0540 - val_accuracy: 0.6783\n",
      "Epoch 135/150\n",
      "107/107 [==============================] - 51s 474ms/step - loss: 0.8800 - accuracy: 0.7346 - val_loss: 1.0581 - val_accuracy: 0.6658\n",
      "Epoch 136/150\n",
      "107/107 [==============================] - 51s 476ms/step - loss: 0.9324 - accuracy: 0.7209 - val_loss: 1.0581 - val_accuracy: 0.6776\n",
      "Epoch 137/150\n",
      "107/107 [==============================] - 51s 475ms/step - loss: 0.8955 - accuracy: 0.7256 - val_loss: 1.0572 - val_accuracy: 0.6668\n",
      "Epoch 138/150\n",
      "106/107 [============================>.] - ETA: 0s - loss: 0.8801 - accuracy: 0.7398\n",
      "Epoch 00138: ReduceLROnPlateau reducing learning rate to 0.00034056155709549785.\n",
      "107/107 [==============================] - 51s 474ms/step - loss: 0.8825 - accuracy: 0.7392 - val_loss: 1.0533 - val_accuracy: 0.6613\n",
      "Epoch 139/150\n",
      "107/107 [==============================] - 51s 475ms/step - loss: 0.9366 - accuracy: 0.7217 - val_loss: 1.0151 - val_accuracy: 0.6793\n",
      "Epoch 140/150\n",
      "107/107 [==============================] - 51s 477ms/step - loss: 0.8189 - accuracy: 0.7618 - val_loss: 1.0375 - val_accuracy: 0.6851\n",
      "Epoch 141/150\n",
      "107/107 [==============================] - 51s 472ms/step - loss: 0.8887 - accuracy: 0.7304 - val_loss: 1.0291 - val_accuracy: 0.6783\n",
      "Epoch 142/150\n",
      "106/107 [============================>.] - ETA: 0s - loss: 0.8561 - accuracy: 0.7483\n",
      "Epoch 00142: ReduceLROnPlateau reducing learning rate to 0.00032353347924072293.\n",
      "107/107 [==============================] - 42s 391ms/step - loss: 0.8625 - accuracy: 0.7463 - val_loss: 1.0518 - val_accuracy: 0.6685\n",
      "Epoch 143/150\n",
      "107/107 [==============================] - 34s 313ms/step - loss: 0.8240 - accuracy: 0.7544 - val_loss: 0.9821 - val_accuracy: 0.7004\n",
      "Epoch 144/150\n",
      "107/107 [==============================] - 34s 317ms/step - loss: 0.9269 - accuracy: 0.7204 - val_loss: 1.0508 - val_accuracy: 0.6705\n",
      "Epoch 145/150\n",
      "107/107 [==============================] - 34s 322ms/step - loss: 0.8681 - accuracy: 0.7390 - val_loss: 0.9902 - val_accuracy: 0.6882\n",
      "Epoch 146/150\n",
      "106/107 [============================>.] - ETA: 0s - loss: 0.8191 - accuracy: 0.7618\n",
      "Epoch 00146: ReduceLROnPlateau reducing learning rate to 0.00030735681357327847.\n",
      "107/107 [==============================] - 35s 323ms/step - loss: 0.8253 - accuracy: 0.7587 - val_loss: 1.0696 - val_accuracy: 0.6668\n",
      "Epoch 147/150\n",
      "107/107 [==============================] - 35s 323ms/step - loss: 0.8637 - accuracy: 0.7420 - val_loss: 0.9974 - val_accuracy: 0.6858\n",
      "Epoch 148/150\n",
      "107/107 [==============================] - 35s 325ms/step - loss: 0.8110 - accuracy: 0.7624 - val_loss: 1.0131 - val_accuracy: 0.6912\n",
      "Epoch 149/150\n",
      "107/107 [==============================] - 35s 323ms/step - loss: 0.8392 - accuracy: 0.7469 - val_loss: 0.9938 - val_accuracy: 0.6916\n",
      "Epoch 150/150\n",
      "107/107 [==============================] - 35s 324ms/step - loss: 0.8447 - accuracy: 0.7511 - val_loss: 0.9770 - val_accuracy: 0.6987\n"
     ]
    }
   ],
   "source": [
    "hist = model.fit_generator(\n",
    "    train_generator,\n",
    "    steps_per_epoch=steps_per_epoch,\n",
    "    validation_data=validation_generator,\n",
    "    validation_steps=val_steps,\n",
    "    epochs=150,\n",
    "    verbose=1,\n",
    "    callbacks=[reduceLROnPlat])"
   ]
  },
  {
   "cell_type": "code",
   "execution_count": 20,
   "metadata": {},
   "outputs": [
    {
     "name": "stdout",
     "output_type": "stream",
     "text": [
      "val_loss = 0.993 and val_acc = 0.707\n"
     ]
    }
   ],
   "source": [
    "score = model.evaluate(X_test, y_test, verbose=0)\n",
    "print(\"val_loss = {:.3f} and val_acc = {:.3f}\".format(score[0], score[1]))"
   ]
  },
  {
   "cell_type": "code",
   "execution_count": 21,
   "metadata": {},
   "outputs": [
    {
     "data": {
      "image/png": "[encoded data removed]",
      "text/plain": [
       "<Figure size 1080x504 with 2 Axes>"
      ]
     },
     "metadata": {
      "needs_background": "light"
     },
     "output_type": "display_data"
    }
   ],
   "source": [
    "plt.figure(figsize=(15,7))\n",
    "\n",
    "plt.subplot(1,2,1)\n",
    "plt.plot(hist.history['accuracy'], label='train')\n",
    "plt.plot(hist.history['val_accuracy'], label='validation')\n",
    "plt.title('Accuracy')\n",
    "plt.xlabel('Epochs')\n",
    "plt.ylabel('Accuracy')\n",
    "plt.legend()\n",
    "\n",
    "plt.subplot(1,2,2)\n",
    "plt.plot(hist.history['loss'], label='train')\n",
    "plt.plot(hist.history['val_loss'], label='validation')\n",
    "plt.title('Loss')\n",
    "plt.xlabel('Epochs')\n",
    "plt.ylabel('Loss')\n",
    "plt.legend()\n",
    "\n",
    "plt.tight_layout()\n",
    "plt.show()"
   ]
  },
  {
   "cell_type": "code",
   "execution_count": 22,
   "metadata": {},
   "outputs": [],
   "source": [
    "#http://scikit-learn.org/stable/auto_examples/model_selection/plot_confusion_matrix.html\n",
    "def plot_confusion_matrix(cm, classes,\n",
    "                          normalize=False,\n",
    "                          title='Confusion matrix',\n",
    "                          cmap=plt.cm.Blues):\n",
    "    \"\"\"\n",
    "    This function prints and plots the confusion matrix.\n",
    "    Normalization can be applied by setting `normalize=True`.\n",
    "    \"\"\"\n",
    "    if normalize:\n",
    "        cm = cm.astype('float') / cm.sum(axis=1)[:, np.newaxis]\n",
    "        print(\"Normalized confusion matrix\")\n",
    "    else:\n",
    "        print('Confusion matrix, without normalization')\n",
    "\n",
    "    plt.imshow(cm, interpolation='nearest', cmap=cmap)\n",
    "    plt.title(title)\n",
    "    plt.colorbar()\n",
    "    tick_marks = np.arange(len(classes))\n",
    "    plt.xticks(tick_marks, classes, rotation=45)\n",
    "    plt.yticks(tick_marks, classes)\n",
    "\n",
    "    fmt = '.2f' if normalize else 'd'\n",
    "    thresh = cm.max() / 2.\n",
    "    for i, j in itertools.product(range(cm.shape[0]), range(cm.shape[1])):\n",
    "        plt.text(j, i, format(cm[i, j], fmt),\n",
    "                 horizontalalignment=\"center\",\n",
    "                 color=\"white\" if cm[i, j] > thresh else \"black\")\n",
    "\n",
    "    plt.tight_layout()\n",
    "    plt.ylabel('True label')\n",
    "    plt.xlabel('Predicted label')"
   ]
  },
  {
   "cell_type": "code",
   "execution_count": 37,
   "metadata": {},
   "outputs": [],
   "source": [
    "preds = np.argmax(model.predict(X_test), axis = 1)\n",
    "y_orig = np.argmax(y_test, axis = 1)\n",
    "cm = confusion_matrix(preds, y_orig)"
   ]
  },
  {
   "cell_type": "code",
   "execution_count": 38,
   "metadata": {},
   "outputs": [
    {
     "data": {
      "text/plain": [
       "0.7066666666666667"
      ]
     },
     "execution_count": 38,
     "metadata": {},
     "output_type": "execute_result"
    }
   ],
   "source": [
    "accuracy_score(y_orig, preds)"
   ]
  },
  {
   "cell_type": "code",
   "execution_count": 24,
   "metadata": {},
   "outputs": [
    {
     "name": "stdout",
     "output_type": "stream",
     "text": [
      "Normalized confusion matrix\n"
     ]
    },
    {
     "data": {
      "image/png": "[encoded data removed]",
      "text/plain": [
       "<Figure size 720x720 with 2 Axes>"
      ]
     },
     "metadata": {
      "needs_background": "light"
     },
     "output_type": "display_data"
    }
   ],
   "source": [
    "keys = OrderedDict(sorted(genres.items(), key=lambda t: t[1])).keys()\n",
    "\n",
    "plt.figure(figsize=(10,10))\n",
    "plot_confusion_matrix(cm, keys, normalize=True)"
   ]
  },
  {
   "cell_type": "markdown",
   "metadata": {},
   "source": [
    "## Majority Vote"
   ]
  },
  {
   "cell_type": "code",
   "execution_count": 25,
   "metadata": {},
   "outputs": [],
   "source": [
    "def majority_vote(scores):\n",
    "    values, counts = np.unique(scores,return_counts=True)\n",
    "    ind = np.argmax(counts)\n",
    "    return values[ind]"
   ]
  },
  {
   "cell_type": "code",
   "execution_count": 26,
   "metadata": {},
   "outputs": [],
   "source": [
    "preds = model.predict(X_test, batch_size=128, verbose=0)"
   ]
  },
  {
   "cell_type": "code",
   "execution_count": 27,
   "metadata": {},
   "outputs": [],
   "source": [
    "# Each sound was divided into 39 segments in our custom function\n",
    "#scores_songs = np.split(np.argmax(preds, axis=1), 300)\n",
    "scores_songs = np.array_split(np.argmax(preds, axis=1), 300)\n",
    "scores_songs = [majority_vote(scores) for scores in scores_songs]"
   ]
  },
  {
   "cell_type": "code",
   "execution_count": 28,
   "metadata": {},
   "outputs": [],
   "source": [
    "# Same analysis for split\n",
    "#label = np.split(np.argmax(y_test, axis=1), 300)\n",
    "label = np.array_split(np.argmax(y_test, axis=1), 300)\n",
    "label = [majority_vote(l) for l in label]"
   ]
  },
  {
   "cell_type": "code",
   "execution_count": 33,
   "metadata": {},
   "outputs": [
    {
     "name": "stdout",
     "output_type": "stream",
     "text": [
      "majority voting system (acc) = 0.737\n"
     ]
    }
   ],
   "source": [
    "from sklearn.metrics import accuracy_score\n",
    "print(\"majority voting system (acc) = {:.3f}\".format(accuracy_score(label, scores_songs)))\n",
    "print(\"majority voting system (acc) = {:.3f}\".format(accuracy_score(label, scores_songs)))"
   ]
  },
  {
   "cell_type": "code",
   "execution_count": 32,
   "metadata": {},
   "outputs": [
    {
     "data": {
      "text/plain": [
       "0.7366666666666667"
      ]
     },
     "execution_count": 32,
     "metadata": {},
     "output_type": "execute_result"
    }
   ],
   "source": [
    "accuracy_score(label, scores_songs)"
   ]
  },
  {
   "cell_type": "markdown",
   "metadata": {},
   "source": [
    "Compared to the classical approach, we are winning now!\n",
    "\n",
    "We passed from a 78.8% accuracy to **82%**. It is not a great improvement but this is a really simple architecture."
   ]
  },
  {
   "cell_type": "markdown",
   "metadata": {},
   "source": [
    "## Save the model"
   ]
  },
  {
   "cell_type": "code",
   "execution_count": 30,
   "metadata": {},
   "outputs": [],
   "source": [
    "# Save the model\n",
    "#model.save('../models/custom_cnn_2d.h5')"
   ]
  }
 ],
 "metadata": {
  "kernelspec": {
   "display_name": "Python 3",
   "language": "python",
   "name": "python3"
  },
  "language_info": {
   "codemirror_mode": {
    "name": "ipython",
    "version": 3
   },
   "file_extension": ".py",
   "mimetype": "text/x-python",
   "name": "python",
   "nbconvert_exporter": "python",
   "pygments_lexer": "ipython3",
   "version": "3.6.13"
  }
 },
 "nbformat": 4,
 "nbformat_minor": 2
}
